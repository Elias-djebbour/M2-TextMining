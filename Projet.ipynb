{
 "cells": [
  {
   "cell_type": "code",
   "execution_count": 1,
   "metadata": {},
   "outputs": [
    {
     "name": "stdout",
     "output_type": "stream",
     "text": [
      "                              title  \\\n",
      "0               Mental Note Vol. 24   \n",
      "1         Your Brain On Coronavirus   \n",
      "2                    Mind Your Nose   \n",
      "3          The 4 Purposes of Dreams   \n",
      "4  Surviving a Rod Through the Head   \n",
      "\n",
      "                                                text  \\\n",
      "0  Photo by Josh Riemer on Unsplash\\n\\nMerry Chri...   \n",
      "1  Your Brain On Coronavirus\\n\\nA guide to the cu...   \n",
      "2  Mind Your Nose\\n\\nHow smell training can chang...   \n",
      "3  Passionate about the synergy between science a...   \n",
      "4  You’ve heard of him, haven’t you? Phineas Gage...   \n",
      "\n",
      "                                                 url                 authors  \\\n",
      "0  https://medium.com/invisible-illness/mental-no...            ['Ryan Fan']   \n",
      "1  https://medium.com/age-of-awareness/how-the-pa...       ['Simon Spichak']   \n",
      "2  https://medium.com/neodotlife/mind-your-nose-f...                      []   \n",
      "3  https://medium.com/science-for-real/the-4-purp...  ['Eshan Samaranayake']   \n",
      "4  https://medium.com/live-your-life-on-purpose/s...        ['Rishav Sinha']   \n",
      "\n",
      "                          timestamp  \\\n",
      "0  2020-12-26 03:38:10.479000+00:00   \n",
      "1  2020-09-23 22:10:17.126000+00:00   \n",
      "2  2020-10-10 20:17:37.132000+00:00   \n",
      "3  2020-12-21 16:05:19.524000+00:00   \n",
      "4  2020-02-26 00:01:01.576000+00:00   \n",
      "\n",
      "                                                tags  \n",
      "0  ['Mental Health', 'Health', 'Psychology', 'Sci...  \n",
      "1  ['Mental Health', 'Coronavirus', 'Science', 'P...  \n",
      "2  ['Biotechnology', 'Neuroscience', 'Brain', 'We...  \n",
      "3  ['Health', 'Neuroscience', 'Mental Health', 'P...  \n",
      "4  ['Brain', 'Health', 'Development', 'Psychology...  \n"
     ]
    }
   ],
   "source": [
    "import pandas as pd\n",
    "\n",
    "path = \"./archive/medium_articles.csv\"\n",
    "\n",
    "df = pd.read_csv(path, delimiter=\",\", quotechar='\"')\n",
    "\n",
    "print(df.head())  # Afficher les premières lignes\n"
   ]
  }
 ],
 "metadata": {
  "kernelspec": {
   "display_name": "base",
   "language": "python",
   "name": "python3"
  },
  "language_info": {
   "codemirror_mode": {
    "name": "ipython",
    "version": 3
   },
   "file_extension": ".py",
   "mimetype": "text/x-python",
   "name": "python",
   "nbconvert_exporter": "python",
   "pygments_lexer": "ipython3",
   "version": "3.12.7"
  }
 },
 "nbformat": 4,
 "nbformat_minor": 2
}
