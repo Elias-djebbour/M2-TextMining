{
 "cells": [
  {
   "cell_type": "markdown",
   "metadata": {},
   "source": [
    "**Importation des bibilothèques**"
   ]
  },
  {
   "cell_type": "code",
   "execution_count": 1,
   "metadata": {},
   "outputs": [],
   "source": [
    "import pandas as pd\n",
    "import numpy as np\n",
    "import tensorflow as tf\n",
    "from tensorflow.keras.regularizers import l2\n",
    "from tensorflow.keras.metrics import Precision, Recall\n",
    "from tensorflow.keras.preprocessing.text import Tokenizer\n",
    "from tensorflow.keras.preprocessing.sequence import pad_sequences\n",
    "from tensorflow.keras.models import Sequential\n",
    "from tensorflow.keras.layers import Embedding, Conv1D, GlobalMaxPooling1D, Dense, Dropout\n",
    "from sklearn.model_selection import train_test_split\n",
    "from sklearn.preprocessing import LabelEncoder\n",
    "import ast"
   ]
  },
  {
   "cell_type": "markdown",
   "metadata": {},
   "source": [
    "**Chargement des données**\n"
   ]
  },
  {
   "cell_type": "code",
   "execution_count": 2,
   "metadata": {},
   "outputs": [],
   "source": [
    "# Charger les données\n",
    "path = \"./archive/lemmetised_clean_data.csv\"\n",
    "df = pd.read_csv(path, delimiter=\",\", quotechar='\"')"
   ]
  },
  {
   "cell_type": "markdown",
   "metadata": {},
   "source": [
    "**Filtrage des Tags**\n"
   ]
  },
  {
   "cell_type": "code",
   "execution_count": 3,
   "metadata": {},
   "outputs": [
    {
     "name": "stdout",
     "output_type": "stream",
     "text": [
      "Taille du dataset après filtrage: (64571, 8)\n"
     ]
    }
   ],
   "source": [
    "# Vérifier et convertir les tags correctement\n",
    "df['tags'] = df['tags'].apply(lambda x: ast.literal_eval(x) if isinstance(x, str) else x)\n",
    "\n",
    "# Compter les occurrences des tags\n",
    "all_tags = [tag for tag_list in df['tags'] for tag in tag_list]\n",
    "tag_counts = pd.Series(all_tags).value_counts()\n",
    "\n",
    "# Sélectionner les 1000 tags les plus fréquents\n",
    "num_top_tags = min(15, len(tag_counts))\n",
    "selected_tags = tag_counts.head(num_top_tags).index.tolist()\n",
    "\n",
    "# Filtrer les articles qui contiennent au moins un des tags sélectionnés\n",
    "df = df[df['tags'].apply(lambda tags: any(tag in selected_tags for tag in tags))]\n",
    "\n",
    "df['main_tag'] = df['tags'].apply(lambda tags: next((tag for tag in tags if tag in selected_tags), None))\n",
    "df.dropna(subset=['clean_text'], inplace=True)\n",
    "\n",
    "# Vérifier la taille du dataset après filtrage\n",
    "print(f\"Taille du dataset après filtrage: {df.shape}\")"
   ]
  },
  {
   "cell_type": "markdown",
   "metadata": {},
   "source": [
    "**Préparation des textes et etiquettes et encodage des étiquettes**"
   ]
  },
  {
   "cell_type": "code",
   "execution_count": 4,
   "metadata": {},
   "outputs": [],
   "source": [
    "# Préparation des textes et étiquettes\n",
    "texts = df['clean_text'].astype(str).tolist()\n",
    "labels = df['main_tag'].tolist()\n",
    "\n",
    "# Encodage des étiquettes\n",
    "label_encoder = LabelEncoder()\n",
    "y = label_encoder.fit_transform(labels)\n",
    "num_classes = len(np.unique(y))"
   ]
  },
  {
   "cell_type": "markdown",
   "metadata": {},
   "source": [
    "**Tokenisation et séquencement des textes puis création du tokenizer**"
   ]
  },
  {
   "cell_type": "code",
   "execution_count": 5,
   "metadata": {},
   "outputs": [],
   "source": [
    "# Tokenisation et séquencement des textes\n",
    "max_words = 20000  # Nombre max de mots dans le vocabulaire\n",
    "max_len = 200  # Longueur max des séquences\n",
    "\n",
    "# Création du tokenizer\n",
    "tokenizer = Tokenizer(num_words=max_words, oov_token=\"<OOV>\")\n",
    "tokenizer.fit_on_texts(texts)\n",
    "X_sequences = tokenizer.texts_to_sequences(texts)\n",
    "X_padded = pad_sequences(X_sequences, maxlen=max_len, padding='post', truncating='post')"
   ]
  },
  {
   "cell_type": "markdown",
   "metadata": {},
   "source": [
    "**Division train/test**"
   ]
  },
  {
   "cell_type": "code",
   "execution_count": 6,
   "metadata": {},
   "outputs": [],
   "source": [
    "X_train, X_test, y_train, y_test = train_test_split(X_padded, y, test_size=0.2, random_state=42)"
   ]
  },
  {
   "cell_type": "markdown",
   "metadata": {},
   "source": [
    "**Création du modèle CNN**"
   ]
  },
  {
   "cell_type": "code",
   "execution_count": 7,
   "metadata": {},
   "outputs": [
    {
     "name": "stderr",
     "output_type": "stream",
     "text": [
      "c:\\Users\\ilyes\\OneDrive\\Bureau\\M2-TextMining\\datamining\\Lib\\site-packages\\keras\\src\\layers\\core\\embedding.py:90: UserWarning: Argument `input_length` is deprecated. Just remove it.\n",
      "  warnings.warn(\n"
     ]
    }
   ],
   "source": [
    "from tensorflow.keras.regularizers import l2\n",
    "\n",
    "model = Sequential([\n",
    "    Embedding(input_dim=max_words, output_dim=128, input_length=max_len),\n",
    "    Conv1D(filters=64, kernel_size=5, activation='relu', kernel_regularizer=l2(0.01)),\n",
    "    GlobalMaxPooling1D(),\n",
    "    Dense(64, activation='relu'),\n",
    "    Dropout(0.6),\n",
    "    Dense(num_classes, activation='softmax')\n",
    "])\n"
   ]
  },
  {
   "cell_type": "markdown",
   "metadata": {},
   "source": [
    "**Compilation du modèle**"
   ]
  },
  {
   "cell_type": "code",
   "execution_count": 11,
   "metadata": {},
   "outputs": [],
   "source": [
    "from tensorflow.keras.metrics import CategoricalAccuracy\n",
    "\n",
    "model.compile(\n",
    "    loss='sparse_categorical_crossentropy',\n",
    "    optimizer='adam',\n",
    "    metrics=['accuracy', CategoricalAccuracy(name='categorical_accuracy')]\n",
    ")\n"
   ]
  },
  {
   "cell_type": "markdown",
   "metadata": {},
   "source": [
    "**Entraînement du modèle**"
   ]
  },
  {
   "cell_type": "code",
   "execution_count": 12,
   "metadata": {},
   "outputs": [
    {
     "name": "stdout",
     "output_type": "stream",
     "text": [
      "Epoch 1/10\n",
      "\u001b[1m1615/1615\u001b[0m \u001b[32m━━━━━━━━━━━━━━━━━━━━\u001b[0m\u001b[37m\u001b[0m \u001b[1m122s\u001b[0m 75ms/step - accuracy: 0.2700 - categorical_accuracy: 0.0487 - loss: 2.3206 - val_accuracy: 0.5172 - val_categorical_accuracy: 0.0525 - val_loss: 1.4913\n",
      "Epoch 2/10\n",
      "\u001b[1m1615/1615\u001b[0m \u001b[32m━━━━━━━━━━━━━━━━━━━━\u001b[0m\u001b[37m\u001b[0m \u001b[1m119s\u001b[0m 73ms/step - accuracy: 0.4929 - categorical_accuracy: 0.0432 - loss: 1.5775 - val_accuracy: 0.5455 - val_categorical_accuracy: 0.0485 - val_loss: 1.3988\n",
      "Epoch 3/10\n",
      "\u001b[1m1615/1615\u001b[0m \u001b[32m━━━━━━━━━━━━━━━━━━━━\u001b[0m\u001b[37m\u001b[0m \u001b[1m114s\u001b[0m 71ms/step - accuracy: 0.5344 - categorical_accuracy: 0.0493 - loss: 1.4456 - val_accuracy: 0.5514 - val_categorical_accuracy: 0.0482 - val_loss: 1.3825\n",
      "Epoch 4/10\n",
      "\u001b[1m1615/1615\u001b[0m \u001b[32m━━━━━━━━━━━━━━━━━━━━\u001b[0m\u001b[37m\u001b[0m \u001b[1m106s\u001b[0m 66ms/step - accuracy: 0.5570 - categorical_accuracy: 0.0494 - loss: 1.3689 - val_accuracy: 0.5562 - val_categorical_accuracy: 0.0480 - val_loss: 1.3798\n",
      "Epoch 5/10\n",
      "\u001b[1m1615/1615\u001b[0m \u001b[32m━━━━━━━━━━━━━━━━━━━━\u001b[0m\u001b[37m\u001b[0m \u001b[1m105s\u001b[0m 65ms/step - accuracy: 0.5767 - categorical_accuracy: 0.0476 - loss: 1.3180 - val_accuracy: 0.5683 - val_categorical_accuracy: 0.0487 - val_loss: 1.3768\n",
      "Epoch 6/10\n",
      "\u001b[1m1615/1615\u001b[0m \u001b[32m━━━━━━━━━━━━━━━━━━━━\u001b[0m\u001b[37m\u001b[0m \u001b[1m105s\u001b[0m 65ms/step - accuracy: 0.5959 - categorical_accuracy: 0.0477 - loss: 1.2484 - val_accuracy: 0.5660 - val_categorical_accuracy: 0.0491 - val_loss: 1.4082\n",
      "Epoch 7/10\n",
      "\u001b[1m1615/1615\u001b[0m \u001b[32m━━━━━━━━━━━━━━━━━━━━\u001b[0m\u001b[37m\u001b[0m \u001b[1m107s\u001b[0m 66ms/step - accuracy: 0.6214 - categorical_accuracy: 0.0462 - loss: 1.1861 - val_accuracy: 0.5494 - val_categorical_accuracy: 0.0485 - val_loss: 1.4880\n",
      "Epoch 8/10\n",
      "\u001b[1m1615/1615\u001b[0m \u001b[32m━━━━━━━━━━━━━━━━━━━━\u001b[0m\u001b[37m\u001b[0m \u001b[1m108s\u001b[0m 67ms/step - accuracy: 0.6418 - categorical_accuracy: 0.0470 - loss: 1.1328 - val_accuracy: 0.5562 - val_categorical_accuracy: 0.0479 - val_loss: 1.5272\n",
      "Epoch 9/10\n",
      "\u001b[1m1615/1615\u001b[0m \u001b[32m━━━━━━━━━━━━━━━━━━━━\u001b[0m\u001b[37m\u001b[0m \u001b[1m108s\u001b[0m 67ms/step - accuracy: 0.6589 - categorical_accuracy: 0.0457 - loss: 1.0687 - val_accuracy: 0.5516 - val_categorical_accuracy: 0.0480 - val_loss: 1.5921\n",
      "Epoch 10/10\n",
      "\u001b[1m1615/1615\u001b[0m \u001b[32m━━━━━━━━━━━━━━━━━━━━\u001b[0m\u001b[37m\u001b[0m \u001b[1m105s\u001b[0m 65ms/step - accuracy: 0.6776 - categorical_accuracy: 0.0475 - loss: 1.0215 - val_accuracy: 0.5477 - val_categorical_accuracy: 0.0486 - val_loss: 1.6557\n"
     ]
    },
    {
     "data": {
      "text/plain": [
       "<keras.src.callbacks.history.History at 0x1b5825e5190>"
      ]
     },
     "execution_count": 12,
     "metadata": {},
     "output_type": "execute_result"
    }
   ],
   "source": [
    "model.fit(X_train, y_train, epochs=10, batch_size=32, validation_data=(X_test, y_test))"
   ]
  },
  {
   "cell_type": "markdown",
   "metadata": {},
   "source": [
    "**Évaluation du modèle**"
   ]
  },
  {
   "cell_type": "code",
   "execution_count": 16,
   "metadata": {},
   "outputs": [
    {
     "name": "stdout",
     "output_type": "stream",
     "text": [
      "\u001b[1m404/404\u001b[0m \u001b[32m━━━━━━━━━━━━━━━━━━━━\u001b[0m\u001b[37m\u001b[0m \u001b[1m3s\u001b[0m 6ms/step - accuracy: 0.5459 - categorical_accuracy: 0.0464 - loss: 1.6869\n",
      "[1.6556713581085205, 0.5476577877998352, 0.048625629395246506]\n",
      "\u001b[1m404/404\u001b[0m \u001b[32m━━━━━━━━━━━━━━━━━━━━\u001b[0m\u001b[37m\u001b[0m \u001b[1m3s\u001b[0m 7ms/step - accuracy: 0.5459 - categorical_accuracy: 0.0464 - loss: 1.6869\n",
      "Accuracy : 0.5477\n",
      "Precision : 0.5477\n",
      "Recall : 0.0486\n",
      "F1-score : 0.0893\n"
     ]
    }
   ],
   "source": [
    "print(model.evaluate(X_test, y_test))\n",
    "loss, precision, recall = model.evaluate(X_test, y_test)\n",
    "f1_score = 2 * (precision * recall) / (precision + recall + tf.keras.backend.epsilon())\n",
    "\n",
    "print(f\"Accuracy : {accuracy:.4f}\")\n",
    "print(f\"Precision : {precision:.4f}\")\n",
    "print(f\"Recall : {recall:.4f}\")\n",
    "print(f\"F1-score : {f1_score:.4f}\")"
   ]
  }
 ],
 "metadata": {
  "kernelspec": {
   "display_name": "datamining",
   "language": "python",
   "name": "python3"
  },
  "language_info": {
   "codemirror_mode": {
    "name": "ipython",
    "version": 3
   },
   "file_extension": ".py",
   "mimetype": "text/x-python",
   "name": "python",
   "nbconvert_exporter": "python",
   "pygments_lexer": "ipython3",
   "version": "3.12.3"
  }
 },
 "nbformat": 4,
 "nbformat_minor": 2
}
